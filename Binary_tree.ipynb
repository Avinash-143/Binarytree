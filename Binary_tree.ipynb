{
  "nbformat": 4,
  "nbformat_minor": 0,
  "metadata": {
    "colab": {
      "provenance": []
    },
    "kernelspec": {
      "name": "python3",
      "display_name": "Python 3"
    },
    "language_info": {
      "name": "python"
    }
  },
  "cells": [
    {
      "cell_type": "code",
      "execution_count": 5,
      "metadata": {
        "id": "YB468vsNcbPi"
      },
      "outputs": [],
      "source": [
        "class Node:\n",
        "    def __init__(self,key):\n",
        "        self.key=key\n",
        "        self.left=None\n",
        "        self.right=None\n",
        "    def insert(self,key):\n",
        "        if key is None:\n",
        "            return Node(self,key)\n",
        "        if key<self.key:\n",
        "            if self.left is None:\n",
        "                self.key=Node(key)\n",
        "            else:\n",
        "                self.left.insert(key)\n",
        "        elif key>self.key:\n",
        "            if self.right is None:\n",
        "                self.right=Node(key)\n",
        "            else:\n",
        "                self.right.insert(key)\n",
        "\n",
        "n =Node(80)\n",
        "n.insert(100)\n",
        "n.insert(200)\n",
        "n.insert(340)\n"
      ]
    }
  ]
}